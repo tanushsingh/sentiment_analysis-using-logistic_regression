{
 "cells": [
  {
   "cell_type": "code",
   "execution_count": 123,
   "id": "52a4a321-2209-4270-b3b3-74c8ef1f71eb",
   "metadata": {},
   "outputs": [
    {
     "name": "stderr",
     "output_type": "stream",
     "text": [
      "[nltk_data] Downloading package stopwords to\n",
      "[nltk_data]     /Users/tanush/nltk_data...\n",
      "[nltk_data]   Package stopwords is already up-to-date!\n"
     ]
    }
   ],
   "source": [
    "import pandas as pd\n",
    "import numpy as np\n",
    "\n",
    "import nltk\n",
    "nltk.download('stopwords')\n",
    "from nltk.corpus import stopwords\n",
    "from nltk.stem import LancasterStemmer\n",
    "\n",
    "from bs4 import BeautifulSoup\n",
    "\n",
    "from sklearn.feature_extraction.text import CountVectorizer\n",
    "from sklearn.feature_extraction.text import TfidfTransformer\n",
    "from sklearn.linear_model import LogisticRegression\n",
    "\n",
    "\n",
    "#  \n",
    "import matplotlib.pyplot as plt\n",
    "from collections import Counter\n"
   ]
  },
  {
   "cell_type": "code",
   "execution_count": 109,
   "id": "dd8fc94f-6d3a-4284-b265-34b8e2f7ce12",
   "metadata": {
    "tags": []
   },
   "outputs": [],
   "source": [
    "#Reading training data\n",
    "train_data = pd.read_csv(\"1643662645_8986752_1567602457_1187546_train_file.dat\", sep=\"\\t\", header = None)\n",
    "train_data.columns = ['Sentiment', 'Review']\n",
    "y_train = train_data['Sentiment']\n",
    "\n",
    "# train_data.head()"
   ]
  },
  {
   "cell_type": "code",
   "execution_count": 110,
   "id": "e8592669-3f95-4def-aed7-a8b4df26d2a8",
   "metadata": {},
   "outputs": [],
   "source": [
    "#Reading test data\n",
    "test_data = pd.read_csv(\"1643662645_9617953_1567602457_126649_test.dat\", sep=\"\\t\", header = None)\n",
    "test_data.columns = ['Review']\n",
    "\n",
    "# test_data.head()"
   ]
  },
  {
   "cell_type": "code",
   "execution_count": 113,
   "id": "b0bd3939-6c50-4ae0-877e-ed8cdff8a681",
   "metadata": {},
   "outputs": [
    {
     "name": "stderr",
     "output_type": "stream",
     "text": [
      "<ipython-input-113-3c4575b030b0>:4: FutureWarning: The default value of regex will change from True to False in a future version.\n",
      "  train_data['Review'] = train_data['Review'].str.replace(r'[^\\w\\s]+', '')\n",
      "<ipython-input-113-3c4575b030b0>:5: FutureWarning: The default value of regex will change from True to False in a future version.\n",
      "  test_data['Review'] = test_data['Review'].str.replace(r'[^\\w\\s]+', '')\n"
     ]
    },
    {
     "data": {
      "text/html": [
       "<div>\n",
       "<style scoped>\n",
       "    .dataframe tbody tr th:only-of-type {\n",
       "        vertical-align: middle;\n",
       "    }\n",
       "\n",
       "    .dataframe tbody tr th {\n",
       "        vertical-align: top;\n",
       "    }\n",
       "\n",
       "    .dataframe thead th {\n",
       "        text-align: right;\n",
       "    }\n",
       "</style>\n",
       "<table border=\"1\" class=\"dataframe\">\n",
       "  <thead>\n",
       "    <tr style=\"text-align: right;\">\n",
       "      <th></th>\n",
       "      <th>Review</th>\n",
       "    </tr>\n",
       "  </thead>\n",
       "  <tbody>\n",
       "    <tr>\n",
       "      <th>0</th>\n",
       "      <td>Perfect new parents We able keep track babys f...</td>\n",
       "    </tr>\n",
       "    <tr>\n",
       "      <th>1</th>\n",
       "      <td>Helps know exactly babies day gone mother law ...</td>\n",
       "    </tr>\n",
       "    <tr>\n",
       "      <th>2</th>\n",
       "      <td>I wanted alternative printing daily log sheets...</td>\n",
       "    </tr>\n",
       "    <tr>\n",
       "      <th>3</th>\n",
       "      <td>My 3 month old son spend half days mother half...</td>\n",
       "    </tr>\n",
       "    <tr>\n",
       "      <th>4</th>\n",
       "      <td>The Baby Tracker brand books absolute best tra...</td>\n",
       "    </tr>\n",
       "  </tbody>\n",
       "</table>\n",
       "</div>"
      ],
      "text/plain": [
       "                                              Review\n",
       "0  Perfect new parents We able keep track babys f...\n",
       "1  Helps know exactly babies day gone mother law ...\n",
       "2  I wanted alternative printing daily log sheets...\n",
       "3  My 3 month old son spend half days mother half...\n",
       "4  The Baby Tracker brand books absolute best tra..."
      ]
     },
     "execution_count": 113,
     "metadata": {},
     "output_type": "execute_result"
    }
   ],
   "source": [
    "#Cleaning the data\n",
    "\n",
    "#Removing punctuations from text\n",
    "train_data['Review'] = train_data['Review'].str.replace(r'[^\\w\\s]+', '')\n",
    "test_data['Review'] = test_data['Review'].str.replace(r'[^\\w\\s]+', '')\n",
    "\n",
    "#removing stopwords from text\n",
    "stop_words = stopwords.words('english')\n",
    "train_data['Review'] = train_data['Review'].apply(lambda x: ' '.join([word for word in str(x).split() if word not in (stop_words)]))\n",
    "test_data['Review'] = test_data['Review'].apply(lambda x: ' '.join([word for word in str(x).split() if word not in (stop_words)]))\n",
    "test_data.head()\n",
    "\n",
    "\n"
   ]
  },
  {
   "cell_type": "code",
   "execution_count": 114,
   "id": "f39c6aa5-acde-4869-80c9-e2ed98fe4a59",
   "metadata": {},
   "outputs": [],
   "source": [
    "# ps = PorterStemmer()\n",
    "\n",
    "ls = LancasterStemmer()\n",
    "train_data['Stems'] = train_data['Review'].apply(lambda x: ' '.join([ls.stem(y) for y in x.split()]))\n",
    "test_data['Stems'] = test_data['Review'].apply(lambda x: ' '.join([ls.stem(y) for y in x.split()]))\n",
    "\n",
    "# train_data['Stems'] = train_data['Review'].apply(lambda x: ' '.join([ps.stem(y) for y in x.split()]))\n",
    "# test_data['Stems'] = test_data['Review'].apply(lambda x: ' '.join([ps.stem(y) for y in x.split()]))\n",
    "\n",
    "# train_data.head()\n"
   ]
  },
  {
   "cell_type": "code",
   "execution_count": 115,
   "id": "5963cbcc-ce9c-4347-bf37-ec2ca0fb49e7",
   "metadata": {},
   "outputs": [
    {
     "data": {
      "text/plain": [
       "[('book', 263),\n",
       " ('lif', 1242),\n",
       " ('sav', 1872),\n",
       " ('help', 1031),\n",
       " ('abl', 34),\n",
       " ('go', 930),\n",
       " ('track', 2336),\n",
       " ('answ', 106),\n",
       " ('quest', 1748),\n",
       " ('diff', 584),\n",
       " ('night', 1492),\n",
       " ('newborn', 1485),\n",
       " ('everyon', 740),\n",
       " ('requir', 1827),\n",
       " ('leav', 1231),\n",
       " ('hospit', 1059),\n",
       " ('went', 2547),\n",
       " ('pag', 1602),\n",
       " ('vert', 2467),\n",
       " ('mov', 1426)]"
      ]
     },
     "execution_count": 115,
     "metadata": {},
     "output_type": "execute_result"
    }
   ],
   "source": [
    "# Count vectorization and TfIdf transform\n",
    "\n",
    "count_vector = CountVectorizer(min_df=.0025, max_df=.1, ngram_range=(1,2))\n",
    "# count_vector = CountVectorizer(min_df=.003, max_df=.1, ngram_range=(1,2))\n",
    "count_vector\n",
    "\n",
    "count_vector.fit(train_data.Stems)\n",
    "list(islice(count_vector.vocabulary_.items(), 20))"
   ]
  },
  {
   "cell_type": "code",
   "execution_count": 116,
   "id": "97443843-dd96-4cd7-b0c3-0c8234a13fc5",
   "metadata": {},
   "outputs": [],
   "source": [
    "# len(count_vector.vocabulary_)\n",
    "\n",
    "\n",
    "cvec_counts = count_vector.transform(train_data.Stems)\n",
    "test_vector = count_vector.transform(train_data.Stems)\n"
   ]
  },
  {
   "cell_type": "code",
   "execution_count": 117,
   "id": "b4ec4370-05bc-4ccb-9d40-722898904791",
   "metadata": {},
   "outputs": [
    {
     "data": {
      "text/plain": [
       "<18506x2684 sparse matrix of type '<class 'numpy.float64'>'\n",
       "\twith 596099 stored elements in Compressed Sparse Row format>"
      ]
     },
     "execution_count": 117,
     "metadata": {},
     "output_type": "execute_result"
    }
   ],
   "source": [
    "transformer = TfidfTransformer()\n",
    "transformed_weights = transformer.fit_transform(cvec_counts)\n",
    "\n",
    "test_weights = transformer.fit_transform(test_vector)\n",
    "transformed_weights\n"
   ]
  },
  {
   "cell_type": "code",
   "execution_count": 118,
   "id": "20871dda-b4d4-4333-9c75-946ffd071c82",
   "metadata": {},
   "outputs": [],
   "source": [
    "regressor = LogisticRegression()\n",
    "regressor.fit(transformed_weights, y_train)\n",
    "\n",
    "prediction = regressor.predict(test_weights)\n",
    "\n",
    "\n"
   ]
  },
  {
   "cell_type": "code",
   "execution_count": 119,
   "id": "408d82e9-ef74-4b34-b311-218a6049a125",
   "metadata": {},
   "outputs": [],
   "source": [
    "new_file = open('predictions.dat','w')\n",
    "\n",
    "for element in prediction:\n",
    "      new_file.write(str(element))\n",
    "      new_file.write('\\n')\n",
    "new_file.close()"
   ]
  },
  {
   "cell_type": "code",
   "execution_count": 124,
   "id": "11aefa4a-3288-4363-88da-d168d97e00e9",
   "metadata": {},
   "outputs": [
    {
     "data": {
      "image/png": "[encoded data removed]",
      "text/plain": [
       "<Figure size 432x288 with 1 Axes>"
      ]
     },
     "metadata": {},
     "output_type": "display_data"
    }
   ],
   "source": [
    "sentiments = Counter(prediction).keys()\n",
    "sentimentsCount = Counter(prediction).values()\n",
    "plt.pie(sentimentsCount, labels = sentimentsCount, shadow = True, autopct = \"%1.1f%%\")\n",
    "plt.legend(sentiments, title = \"Sentiments\", loc = \"center right\", bbox_to_anchor = (1, 0, 0.5, 1))\n",
    "plt.title(\"Product Reviews Distribution\")\n",
    "plt.show()"
   ]
  },
  {
   "cell_type": "code",
   "execution_count": null,
   "id": "f4a63e0b-a5bc-442a-b2d2-ebf317571a0d",
   "metadata": {},
   "outputs": [],
   "source": []
  }
 ],
 "metadata": {
  "kernelspec": {
   "display_name": "Python 3",
   "language": "python",
   "name": "python3"
  },
  "language_info": {
   "codemirror_mode": {
    "name": "ipython",
    "version": 3
   },
   "file_extension": ".py",
   "mimetype": "text/x-python",
   "name": "python",
   "nbconvert_exporter": "python",
   "pygments_lexer": "ipython3",
   "version": "3.8.8"
  }
 },
 "nbformat": 4,
 "nbformat_minor": 5
}
